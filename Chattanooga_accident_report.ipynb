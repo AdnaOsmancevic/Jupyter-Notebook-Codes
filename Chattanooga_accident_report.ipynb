{
 "cells": [
  {
   "cell_type": "code",
   "execution_count": 3,
   "id": "9ae402bc-93c2-4577-bbad-ecae44cb069d",
   "metadata": {},
   "outputs": [
    {
     "name": "stdout",
     "output_type": "stream",
     "text": [
      "      Incident Number           Incident Date  Time Num               Street  \\\n",
      "0           23-107245  10/02/2023 01:36:00 PM      13.5       4707 Dodds ave   \n",
      "1           23-101800  09/17/2023 05:27:00 PM      17.5       1101 Market St   \n",
      "2           23-101860  09/17/2023 08:12:00 PM      20.0     3536 Brainerd Rd   \n",
      "3           23-101861  09/17/2023 08:13:00 PM      20.0  200 N Holtzclaw Ave   \n",
      "4           23-100351  09/13/2023 04:05:00 PM      16.0             Broad St   \n",
      "...               ...                     ...       ...                  ...   \n",
      "88411       23-000872  01/03/2023 01:36:00 PM      13.5     5238 Highway 153   \n",
      "88412       23-041407  04/20/2023 08:15:00 AM       8.5      2120 Chapman Rd   \n",
      "88413       23-005049  01/15/2023 12:00:00 AM       NaN    6200 Perimeter Dr   \n",
      "88414       23-031421  03/27/2023 07:00:00 AM       7.0         300 W 6th St   \n",
      "88415       WC2200004  09/12/2020 03:23:00 PM      15.5   100 Highway 153 Nb   \n",
      "\n",
      "      Alt Street         City    County           Intersection  Mile Post  \\\n",
      "0           SR-0  Chattanooga  Hamilton        Rossville Blvd.        0.0   \n",
      "1           SR-1  Chattanooga  Hamilton             W 12th St.        0.0   \n",
      "2            NaN  Chattanooga  Hamilton       S. Germantown Rd        NaN   \n",
      "3            NaN  Chattanooga  Hamilton               E 3rd St        NaN   \n",
      "4            NaN  Chattanooga  Hamilton             W. 20th St        NaN   \n",
      "...          ...          ...       ...                    ...        ...   \n",
      "88411        NaN  Chattanooga  Hamilton              Hamill Rd        NaN   \n",
      "88412        NaN  Chattanooga  Hamilton  6100 Shallowford Road        NaN   \n",
      "88413        NaN  Chattanooga  Hamilton                Lee Hwy        NaN   \n",
      "88414        NaN  Chattanooga  Hamilton                Pine St        NaN   \n",
      "88415       SR-1  Chattanooga  Hamilton               Lee Hwy.        1.0   \n",
      "\n",
      "                  Accident Type  ... Drug Involved Alcohol Involved  \\\n",
      "0         Property Damage Under  ...           NaN               No   \n",
      "1               Possible Injury  ...            No               No   \n",
      "2               Property Damage  ...            No               No   \n",
      "3        Suspected Minor Injury  ...            No               No   \n",
      "4               Possible Injury  ...            No               No   \n",
      "...                         ...  ...           ...              ...   \n",
      "88411           Property Damage  ...            No               No   \n",
      "88412           Property Damage  ...           NaN              NaN   \n",
      "88413  Suspected Serious Injury  ...           NaN              NaN   \n",
      "88414           Property Damage  ...            No               No   \n",
      "88415           Property Damage  ...            No               No   \n",
      "\n",
      "      Light Condition Driver One Safety Equipment Driver One Zip  \\\n",
      "0            Daylight       None Used MV Occupant          30741   \n",
      "1                Dawn                         NaN          37402   \n",
      "2      Dark - Lighted                     Unknown        Unknown   \n",
      "3      Dark - Lighted       None Used MV Occupant          37401   \n",
      "4            Daylight  Shoulder and Lap Belt Used          30741   \n",
      "...               ...                         ...            ...   \n",
      "88411        Daylight  Shoulder and Lap Belt Used          37379   \n",
      "88412        Daylight                     Unknown        Unknown   \n",
      "88413         Unknown                     Unknown          37421   \n",
      "88414        Daylight                         NaN          30309   \n",
      "88415        Daylight  Shoulder and Lap Belt Used          37363   \n",
      "\n",
      "       Driver Two Safety Equipment  Driver Two Zip   Latitude  Longitude  \\\n",
      "0                          Unknown         Unknown  34.988402 -85.288209   \n",
      "1            None Used MV Occupant           37411  35.043187 -85.309693   \n",
      "2       Shoulder and Lap Belt Used           37302  35.023823 -85.247288   \n",
      "3                          Unknown         Unknown  34.989102 -85.289101   \n",
      "4       Shoulder and Lap Belt Used           37402  35.033754 -85.313342   \n",
      "...                            ...             ...        ...        ...   \n",
      "88411   Shoulder and Lap Belt Used           37367  35.008838 -85.198178   \n",
      "88412                          NaN           30736  35.067936 -85.212010   \n",
      "88413                          NaN             NaN  35.016433 -85.280512   \n",
      "88414   Shoulder and Lap Belt Used           30032  35.163013 -85.201695   \n",
      "88415                          NaN             NaN  35.008507 -85.222227   \n",
      "\n",
      "                        Location WKT  \n",
      "0       POINT (-85.288209 34.988402)  \n",
      "1       POINT (-85.309693 35.043187)  \n",
      "2       POINT (-85.247288 35.023823)  \n",
      "3      POINT (-85.289101 34.9891016)  \n",
      "4       POINT (-85.313342 35.033754)  \n",
      "...                              ...  \n",
      "88411   POINT (-85.198178 35.008838)  \n",
      "88412    POINT (-85.21201 35.067936)  \n",
      "88413   POINT (-85.280512 35.016433)  \n",
      "88414   POINT (-85.201695 35.163013)  \n",
      "88415  POINT (-85.222227 35.0085065)  \n",
      "\n",
      "[88416 rows x 30 columns]\n"
     ]
    }
   ],
   "source": [
    "import pandas as pd\n",
    "\n",
    "car = pd.read_csv(r\"C:\\Users\\Adnao\\OneDrive\\Documents\\Vehicle_Incidents_20240920.csv\")\n",
    "\n",
    "print(car)"
   ]
  },
  {
   "cell_type": "code",
   "execution_count": 11,
   "id": "db70718b-7533-49f1-9d31-9d2bdba2d110",
   "metadata": {},
   "outputs": [
    {
     "name": "stdout",
     "output_type": "stream",
     "text": [
      "      Incident Number           Incident Date             Accident Type  \\\n",
      "0           23-107245  10/02/2023 01:36:00 PM     Property Damage Under   \n",
      "1           23-101800  09/17/2023 05:27:00 PM           Possible Injury   \n",
      "2           23-101860  09/17/2023 08:12:00 PM           Property Damage   \n",
      "3           23-101861  09/17/2023 08:13:00 PM    Suspected Minor Injury   \n",
      "4           23-100351  09/13/2023 04:05:00 PM           Possible Injury   \n",
      "...               ...                     ...                       ...   \n",
      "88411       23-000872  01/03/2023 01:36:00 PM           Property Damage   \n",
      "88412       23-041407  04/20/2023 08:15:00 AM           Property Damage   \n",
      "88413       23-005049  01/15/2023 12:00:00 AM  Suspected Serious Injury   \n",
      "88414       23-031421  03/27/2023 07:00:00 AM           Property Damage   \n",
      "88415       WC2200004  09/12/2020 03:23:00 PM           Property Damage   \n",
      "\n",
      "                    Street  \n",
      "0           4707 Dodds ave  \n",
      "1           1101 Market St  \n",
      "2         3536 Brainerd Rd  \n",
      "3      200 N Holtzclaw Ave  \n",
      "4                 Broad St  \n",
      "...                    ...  \n",
      "88411     5238 Highway 153  \n",
      "88412      2120 Chapman Rd  \n",
      "88413    6200 Perimeter Dr  \n",
      "88414         300 W 6th St  \n",
      "88415   100 Highway 153 Nb  \n",
      "\n",
      "[88416 rows x 4 columns]\n"
     ]
    }
   ],
   "source": [
    "columns_to_display = ['Incident Number', 'Incident Date', 'Accident Type', 'Street']\n",
    "print(car[columns_to_display])"
   ]
  },
  {
   "cell_type": "code",
   "execution_count": 25,
   "id": "d134c920-5757-4b36-b072-f0e8fe120851",
   "metadata": {},
   "outputs": [
    {
     "name": "stdout",
     "output_type": "stream",
     "text": [
      "Data exported to Excel successfully!\n"
     ]
    }
   ],
   "source": [
    "df = pd.DataFrame(car)\n",
    "\n",
    "df.to_excel('car_report.xlsx', index=False)\n",
    "\n",
    "print(\"Data exported to Excel successfully!\")"
   ]
  },
  {
   "cell_type": "code",
   "execution_count": null,
   "id": "293799e4-0038-4399-a79d-b395ca5955ac",
   "metadata": {},
   "outputs": [],
   "source": []
  }
 ],
 "metadata": {
  "kernelspec": {
   "display_name": "Python 3 (ipykernel)",
   "language": "python",
   "name": "python3"
  },
  "language_info": {
   "codemirror_mode": {
    "name": "ipython",
    "version": 3
   },
   "file_extension": ".py",
   "mimetype": "text/x-python",
   "name": "python",
   "nbconvert_exporter": "python",
   "pygments_lexer": "ipython3",
   "version": "3.12.4"
  }
 },
 "nbformat": 4,
 "nbformat_minor": 5
}
