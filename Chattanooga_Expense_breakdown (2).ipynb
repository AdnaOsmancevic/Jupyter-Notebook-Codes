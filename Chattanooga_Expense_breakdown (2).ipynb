{
 "cells": [
  {
   "cell_type": "code",
   "execution_count": 9,
   "id": "d25bf9ce-0c61-4f63-a4e9-ae8ae15d222e",
   "metadata": {},
   "outputs": [
    {
     "name": "stdout",
     "output_type": "stream",
     "text": [
      "Requirement already satisfied: pandas in c:\\users\\adnao\\anaconda3\\lib\\site-packages (2.2.2)\n",
      "Requirement already satisfied: numpy>=1.26.0 in c:\\users\\adnao\\anaconda3\\lib\\site-packages (from pandas) (1.26.4)\n",
      "Requirement already satisfied: python-dateutil>=2.8.2 in c:\\users\\adnao\\anaconda3\\lib\\site-packages (from pandas) (2.9.0.post0)\n",
      "Requirement already satisfied: pytz>=2020.1 in c:\\users\\adnao\\anaconda3\\lib\\site-packages (from pandas) (2024.1)\n",
      "Requirement already satisfied: tzdata>=2022.7 in c:\\users\\adnao\\anaconda3\\lib\\site-packages (from pandas) (2023.3)\n",
      "Requirement already satisfied: six>=1.5 in c:\\users\\adnao\\anaconda3\\lib\\site-packages (from python-dateutil>=2.8.2->pandas) (1.16.0)\n",
      "Note: you may need to restart the kernel to use updated packages.\n"
     ]
    }
   ],
   "source": [
    "pip install pandas"
   ]
  },
  {
   "cell_type": "code",
   "execution_count": 17,
   "id": "0c9644ab-5878-429b-8769-2528b7a7c0ab",
   "metadata": {},
   "outputs": [
    {
     "name": "stdout",
     "output_type": "stream",
     "text": [
      "   Fiscal Year                             Service  \\\n",
      "0         2021                       Public Safety   \n",
      "1         2021                       Public Safety   \n",
      "2         2021                       Public Safety   \n",
      "3         2021  Economic and Community Development   \n",
      "4         2021                        Public Works   \n",
      "\n",
      "                         Department                                 Program  \\\n",
      "0                              Fire               Fire Station # 3 Tiftonia   \n",
      "1                              Fire                     Fire Marshall Staff   \n",
      "2                            Police               Police Special Operations   \n",
      "3  Economic & Community Development                 Code Enforcement Office   \n",
      "4                      Public Works  Park Mgmt - City-Wide Park Maintenance   \n",
      "\n",
      "  Expense Category  Recommended Amount  Approved Amount          Fund  \\\n",
      "0         Services              5320.0           5320.0  General Fund   \n",
      "1  Fringe Benefits             18816.0          18816.0  General Fund   \n",
      "2         Services              1600.0           1600.0  General Fund   \n",
      "3         Salaries             60000.0          60000.0  General Fund   \n",
      "4  Fringe Benefits             13440.0          13440.0  General Fund   \n",
      "\n",
      "            Fund Type              Description           Expense Type  amended  \n",
      "0  Tax Supported Fund                    Water              Utilities   5320.0  \n",
      "1  Tax Supported Fund  On-site Medical Program  Other Fringe Benefits  18816.0  \n",
      "2  Tax Supported Fund                     Dues         Other Services   1600.0  \n",
      "3  Tax Supported Fund       Temporary Staffing       Salaries & Wages  60000.0  \n",
      "4  Tax Supported Fund  On-site Medical Program  Other Fringe Benefits  13440.0  \n"
     ]
    }
   ],
   "source": [
    "import pandas as pd\n",
    "\n",
    "chatt = pd.read_csv(r\"C:\\Users\\Adnao\\OneDrive\\Documents\\Practice Data\\Chattanooga__Operating_Budget.csv\")\n",
    "\n",
    "print(chatt.head())"
   ]
  },
  {
   "cell_type": "code",
   "execution_count": 21,
   "id": "c3a1d6b8-7bca-46f4-96e8-82d2277cde79",
   "metadata": {},
   "outputs": [
    {
     "name": "stdout",
     "output_type": "stream",
     "text": [
      "                              Service                        Department  \\\n",
      "0  Economic and Community Development  Economic & Community Development   \n",
      "1                       Public Safety                              Fire   \n",
      "2                       Public Safety                              Fire   \n",
      "3                       Public Safety                            Police   \n",
      "4                        Public Works                      Public Works   \n",
      "\n",
      "  Expense Category  Approved Amount  \n",
      "0         Salaries       $60,000.00  \n",
      "1  Fringe Benefits       $18,816.00  \n",
      "2         Services        $5,320.00  \n",
      "3         Services        $1,600.00  \n",
      "4  Fringe Benefits       $13,440.00  \n",
      "                              Service                        Department  \\\n",
      "0  Economic and Community Development  Economic & Community Development   \n",
      "1                       Public Safety                              Fire   \n",
      "2                       Public Safety                              Fire   \n",
      "3                       Public Safety                            Police   \n",
      "4                        Public Works                      Public Works   \n",
      "\n",
      "  Expense Category  Approved Amount  \n",
      "0         Salaries       $60,000.00  \n",
      "1  Fringe Benefits       $18,816.00  \n",
      "2         Services        $5,320.00  \n",
      "3         Services        $1,600.00  \n",
      "4  Fringe Benefits       $13,440.00  \n"
     ]
    }
   ],
   "source": [
    "data = {\n",
    "    \"Fiscal Year\": [2021, 2021, 2021, 2021, 2021],\n",
    "    \"Service\": [\"Public Safety\", \"Public Safety\", \"Public Safety\", \n",
    "                \"Economic and Community Development\", \"Public Works\"],\n",
    "    \"Department\": [\"Fire\", \"Fire\", \"Police\", \n",
    "                   \"Economic & Community Development\", \"Public Works\"],\n",
    "    \"Program\": [\"Fire Station #3 Tiftonia\", \"Fire Marshall Staff\", \n",
    "                \"Police Special Operations\", \"Code Enforcement Office\", \n",
    "                \"Park Mgmt - City-Wide Park Maintenance\"],\n",
    "    \"Expense Category\": [\"Services\", \"Fringe Benefits\", \"Services\", \n",
    "                         \"Salaries\", \"Fringe Benefits\"],\n",
    "    \"Recommended Amount\": [5320.0, 18816.0, 1600.0, 60000.0, 13440.0],\n",
    "    \"Approved Amount\": [5320.0, 18816.0, 1600.0, 60000.0, 13440.0],\n",
    "}\n",
    "\n",
    "df = pd.DataFrame(data)\n",
    "\n",
    "summary_table = df.groupby(['Service', 'Department', 'Expense Category']).agg(\n",
    "    {'Approved Amount': 'sum'}).reset_index()\n",
    "\n",
    "print(summary_table)\n",
    "\n",
    "summary_table.to_csv('expense_breakdown.csv', index=False)\n",
    "\n",
    "pd.set_option('display.float_format', '${:,.2f}'.format) \n",
    "print(summary_table)\n"
   ]
  },
  {
   "cell_type": "code",
   "execution_count": 23,
   "id": "44083211-cee2-41e3-9767-7adb25a8b666",
   "metadata": {},
   "outputs": [],
   "source": [
    "# convert data into a Excel sheet for easier transfer "
   ]
  },
  {
   "cell_type": "code",
   "execution_count": 26,
   "id": "2e8ac9ca-80f6-4be8-9200-cb665d6b3470",
   "metadata": {},
   "outputs": [
    {
     "name": "stdout",
     "output_type": "stream",
     "text": [
      "Data exported to Excel successfully!\n"
     ]
    }
   ],
   "source": [
    "\n",
    "data = {\n",
    "    \"Fiscal Year\": [2021, 2021, 2021, 2021, 2021],\n",
    "    \"Service\": [\"Public Safety\", \"Public Safety\", \"Public Safety\", \n",
    "                \"Economic and Community Development\", \"Public Works\"],\n",
    "    \"Department\": [\"Fire\", \"Fire\", \"Police\", \n",
    "                   \"Economic & Community Development\", \"Public Works\"],\n",
    "    \"Program\": [\"Fire Station #3 Tiftonia\", \"Fire Marshall Staff\", \n",
    "                \"Police Special Operations\", \"Code Enforcement Office\", \n",
    "                \"Park Mgmt - City-Wide Park Maintenance\"],\n",
    "    \"Expense Category\": [\"Services\", \"Fringe Benefits\", \"Services\", \n",
    "                         \"Salaries\", \"Fringe Benefits\"],\n",
    "    \"Approved Amount\": [5320.0, 18816.0, 1600.0, 60000.0, 13440.0]\n",
    "}\n",
    "\n",
    "df = pd.DataFrame(data)\n",
    "\n",
    "df.to_excel('budget_summary.xlsx', index=False)\n",
    "\n",
    "print(\"Data exported to Excel successfully!\")\n"
   ]
  },
  {
   "cell_type": "code",
   "execution_count": 28,
   "id": "a6cc19e7-11cf-4357-b4b6-2d2734512906",
   "metadata": {},
   "outputs": [],
   "source": [
    "#  after editing data and creating visual examples, I had to convert again the excel file into Phython to load into HTML sucessfully "
   ]
  },
  {
   "cell_type": "code",
   "execution_count": 48,
   "id": "e8402424-17b9-4b4d-ae7c-a2edfb2cb690",
   "metadata": {},
   "outputs": [
    {
     "name": "stdout",
     "output_type": "stream",
     "text": [
      "Table loaded and saved successfully!\n"
     ]
    }
   ],
   "source": [
    "import matplotlib.pyplot as plt\n",
    "\n",
    "excel_file = 'budget_summary.xlsx'\n",
    "\n",
    "df_table = pd.read_excel(excel_file, sheet_name='Sheet1')\n",
    "\n",
    "html_table = df_table.to_html(index=False)\n",
    "\n",
    "print(\"Table loaded and saved successfully!\")\n"
   ]
  },
  {
   "cell_type": "code",
   "execution_count": 40,
   "id": "c1062a93-fee6-4bfc-af3a-030d97bdc96c",
   "metadata": {},
   "outputs": [
    {
     "name": "stdout",
     "output_type": "stream",
     "text": [
      "['Sheet1']\n"
     ]
    }
   ],
   "source": []
  },
  {
   "cell_type": "code",
   "execution_count": null,
   "id": "6f742930-5166-456f-85fd-5bbf61249bc9",
   "metadata": {},
   "outputs": [],
   "source": []
  }
 ],
 "metadata": {
  "kernelspec": {
   "display_name": "Python 3 (ipykernel)",
   "language": "python",
   "name": "python3"
  },
  "language_info": {
   "codemirror_mode": {
    "name": "ipython",
    "version": 3
   },
   "file_extension": ".py",
   "mimetype": "text/x-python",
   "name": "python",
   "nbconvert_exporter": "python",
   "pygments_lexer": "ipython3",
   "version": "3.12.4"
  }
 },
 "nbformat": 4,
 "nbformat_minor": 5
}
